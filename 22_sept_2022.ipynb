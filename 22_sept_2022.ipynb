{
  "nbformat": 4,
  "nbformat_minor": 0,
  "metadata": {
    "colab": {
      "provenance": []
    },
    "kernelspec": {
      "name": "python3",
      "display_name": "Python 3"
    },
    "language_info": {
      "name": "python"
    }
  },
  "cells": [
    {
      "cell_type": "markdown",
      "source": [
        "$$\n",
        "f'_i = \\frac{f_{i+1}}{2h_i} + \\frac{f_i}{2} \\left(\\frac{1}{h_{i-1}} - \\frac{1}{h_i} \\right) - \\frac{f_{i-1}}{2h_{i-1}}\n",
        "$$\n",
        "\n",
        "$$\n",
        "f'_i = \\frac{1}{2} \\left[ \\frac{f_{i+2}}{h_i + h_{i+1}} +\\frac{f_{i+1}}{h_i} - \\left( \\frac{1}{h_i} + \\frac{1}{h_i + h_{i+1}}\\right)f_i \\right]\n",
        "$$\n",
        "\n",
        "donde $h_i = x_{i+1}-x_i$ y $h_{i-1} = x_i-x_{i-1}$"
      ],
      "metadata": {
        "id": "2hNah9rtaCfv"
      }
    },
    {
      "cell_type": "code",
      "execution_count": null,
      "metadata": {
        "id": "UNV7KNtSXstW"
      },
      "outputs": [],
      "source": [
        "def mi_derivada_h3(x,f_x):\n",
        "  df_x = zeros(len(f_x)) \n",
        "  h2 = 2*(x[1] - x[0])\n",
        "  for i in range(len(df_x)-2):   # puntos interiores\n",
        "    df_x[i] = (f_x[i+1] - f_x[i]) /(h2)\n",
        "    df_x[0] = (f_x[1]-f_x[0])/(0.5*h2)\n",
        "  df_x[-1] = (f_x[-1] - f_x[-2]) /(0.5*h2)\n",
        "  return df_x"
      ]
    },
    {
      "cell_type": "code",
      "source": [],
      "metadata": {
        "id": "Dai5VqkeYHY2"
      },
      "execution_count": null,
      "outputs": []
    }
  ]
}