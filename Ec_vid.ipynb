{
  "nbformat": 4,
  "nbformat_minor": 0,
  "metadata": {
    "colab": {
      "provenance": []
    },
    "kernelspec": {
      "name": "python3",
      "display_name": "Python 3"
    },
    "language_info": {
      "name": "python"
    }
  },
  "cells": [
    {
      "cell_type": "code",
      "execution_count": null,
      "metadata": {
        "id": "kzQduQkuRJHc"
      },
      "outputs": [],
      "source": [
        "from pylab import *\n",
        "from matplotlib import animation,rc\n",
        "#from IPython.display import HTML\n",
        "\n",
        "x , y = linspace(-1,1,100) , linspace(-1,1,100)\n",
        "XX,YY = meshgrid(x,y)\n",
        "sol = load('sol_EcCalor2D_D0-1_rich_t1.npy')\n",
        "sol.shape"
      ]
    },
    {
      "cell_type": "code",
      "source": [
        "fig = figure(figsize=(10, 5))\n",
        "ejes1 = fig.add_subplot(1, 2, 1)\n",
        "ejes1.set_xlim((-1,1)),ejes1.set_ylim((-1,1)),ejes1.set_aspect('equal')\n",
        "ejes1.contourf(XX,YY,sol[:,:,0])\n",
        "#\n",
        "ejes2 = fig.add_subplot(1,2,2,projection='3d')\n",
        "ejes2.set_xlim((-1,1)),ejes2.set_ylim((-1,1)),ejes2.set_zlim((0,1))\n",
        "\n",
        "ejes2.plot_surface(XX, YY, sol[:,:,0],linewidth=0, antialiased=False,cmap=cm.rainbow)\n",
        "\n",
        "ejes2.view_init(30, 45)\n",
        "\n",
        "def anima(i,ejes1,ejes2,fig):\n",
        "    ejes2.cla()\n",
        "    grafica = (ejes1.contourf(XX,YY,sol[:,:,i]),\n",
        "               ejes2.plot_surface(XX, YY, sol[:,:,i],linewidth=0, antialiased=False,cmap=cm.rainbow))\n",
        "    ejes2.view_init(30, 30+i)\n",
        "    return grafica\n",
        "\n",
        "pelicula = animation.FuncAnimation(fig,anima,frames=sol.shape[2],fargs=(ejes1,ejes2,fig),interval=150)\n",
        "pelicula.save('calor_2D.mp4')"
      ],
      "metadata": {
        "id": "S5_M7V88ROne"
      },
      "execution_count": null,
      "outputs": []
    }
  ]
}